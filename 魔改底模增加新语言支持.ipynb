{
 "cells": [
  {
   "cell_type": "code",
   "id": "25d4bdfe-b007-4253-9de5-f4fe7c7c9a28",
   "metadata": {
    "ExecuteTime": {
     "end_time": "2024-09-14T14:40:10.860280Z",
     "start_time": "2024-09-14T14:40:09.759681Z"
    }
   },
   "source": [
    "import torch\n",
    "import platform\n",
    "import pathlib\n",
    "\n",
    "if platform.system().lower() == 'windows':\n",
    "    temp = pathlib.PosixPath\n",
    "    pathlib.PosixPath = pathlib.WindowsPath\n",
    "else:\n",
    "    temp = pathlib.WindowsPath\n",
    "    pathlib.WindowsPath = pathlib.PosixPath"
   ],
   "outputs": [],
   "execution_count": 1
  },
  {
   "cell_type": "code",
   "id": "a5d77c9e-4869-4dca-831b-4b2a5751ca42",
   "metadata": {
    "ExecuteTime": {
     "end_time": "2024-09-14T14:40:12.527928Z",
     "start_time": "2024-09-14T14:40:12.015660Z"
    }
   },
   "source": "checkpoint = torch.load('./checkpoints/vallex-checkpoint.pt', map_location='cpu')",
   "outputs": [
    {
     "name": "stderr",
     "output_type": "stream",
     "text": [
      "/var/folders/fd/vflcczp10w97j9zp71gwynl40000gn/T/ipykernel_3391/3491729396.py:1: FutureWarning: You are using `torch.load` with `weights_only=False` (the current default value), which uses the default pickle module implicitly. It is possible to construct malicious pickle data which will execute arbitrary code during unpickling (See https://github.com/pytorch/pytorch/blob/main/SECURITY.md#untrusted-models for more details). In a future release, the default value for `weights_only` will be flipped to `True`. This limits the functions that could be executed during unpickling. Arbitrary objects will no longer be allowed to be loaded via this mode unless they are explicitly allowlisted by the user via `torch.serialization.add_safe_globals`. We recommend you start setting `weights_only=True` for any use case where you don't have full control of the loaded file. Please open an issue on GitHub for any issues related to this experimental feature.\n",
      "  checkpoint = torch.load('./checkpoints/vallex-checkpoint.pt', map_location='cpu')\n"
     ]
    }
   ],
   "execution_count": 2
  },
  {
   "metadata": {},
   "cell_type": "markdown",
   "source": "language_embedding 的权重是一个语言数量 x 1024 的矩阵，我们要新增一个语言，因此扩展一个 1 x 1024 的矩阵，并随机初始化。",
   "id": "4ff4e345b6826f47"
  },
  {
   "cell_type": "code",
   "id": "c2213084-5861-45c6-a2fd-8f6133860a7f",
   "metadata": {
    "ExecuteTime": {
     "end_time": "2024-09-14T14:40:15.124520Z",
     "start_time": "2024-09-14T14:40:15.120501Z"
    }
   },
   "source": [
    "ar_lang_emb = checkpoint['model']['ar_language_embedding.word_embeddings.weight']\n",
    "checkpoint['model']['ar_language_embedding.word_embeddings.weight'] = torch.cat([ar_lang_emb, torch.rand(1, 1024)])\n",
    "\n",
    "nar_lang_emb = checkpoint['model']['nar_language_embedding.word_embeddings.weight']\n",
    "checkpoint['model']['nar_language_embedding.word_embeddings.weight'] = torch.cat([nar_lang_emb, torch.rand(1, 1024)])"
   ],
   "outputs": [],
   "execution_count": 3
  },
  {
   "metadata": {},
   "cell_type": "markdown",
   "source": "保存魔改后的模型权重。",
   "id": "eeaccf930a9a76e3"
  },
  {
   "cell_type": "code",
   "id": "6429f7c2-4708-4578-b616-a9eb4170ecea",
   "metadata": {
    "ExecuteTime": {
     "end_time": "2024-09-14T14:40:17.899934Z",
     "start_time": "2024-09-14T14:40:16.058536Z"
    }
   },
   "source": [
    "torch.save(checkpoint, './checkpoints/vallex-checkpoint2.pt')"
   ],
   "outputs": [],
   "execution_count": 4
  },
  {
   "metadata": {},
   "cell_type": "markdown",
   "source": "验证新模型可以加载新权重。",
   "id": "4968cedfc131cfc3"
  },
  {
   "cell_type": "code",
   "id": "57d1a4b1-8308-4881-871c-ae6eb516aed7",
   "metadata": {
    "ExecuteTime": {
     "end_time": "2024-09-14T14:40:20.208314Z",
     "start_time": "2024-09-14T14:40:17.901934Z"
    }
   },
   "source": [
    "from macros import *\n",
    "from models.vallex import VALLE\n",
    "\n",
    "checkpoint2 = torch.load('./checkpoints/vallex-checkpoint2.pt', map_location='cpu')\n",
    "model = VALLE(\n",
    "        N_DIM,\n",
    "        NUM_HEAD,\n",
    "        NUM_LAYERS,\n",
    "        norm_first=True,\n",
    "        add_prenet=False,\n",
    "        prefix_mode=PREFIX_MODE,\n",
    "        share_embedding=True,\n",
    "        nar_scale_factor=1.0,\n",
    "        prepend_bos=True,\n",
    "        num_quantizers=NUM_QUANTIZERS,\n",
    "    )\n",
    "missing_keys, unexpected_keys = model.load_state_dict(\n",
    "    checkpoint2[\"model\"], strict=True\n",
    ")\n",
    "assert not missing_keys\n",
    "model.eval()"
   ],
   "outputs": [
    {
     "name": "stderr",
     "output_type": "stream",
     "text": [
      "/var/folders/fd/vflcczp10w97j9zp71gwynl40000gn/T/ipykernel_3391/2014426536.py:4: FutureWarning: You are using `torch.load` with `weights_only=False` (the current default value), which uses the default pickle module implicitly. It is possible to construct malicious pickle data which will execute arbitrary code during unpickling (See https://github.com/pytorch/pytorch/blob/main/SECURITY.md#untrusted-models for more details). In a future release, the default value for `weights_only` will be flipped to `True`. This limits the functions that could be executed during unpickling. Arbitrary objects will no longer be allowed to be loaded via this mode unless they are explicitly allowlisted by the user via `torch.serialization.add_safe_globals`. We recommend you start setting `weights_only=True` for any use case where you don't have full control of the loaded file. Please open an issue on GitHub for any issues related to this experimental feature.\n",
      "  checkpoint2 = torch.load('./checkpoints/vallex-checkpoint2.pt', map_location='cpu')\n"
     ]
    },
    {
     "data": {
      "text/plain": [
       "VALLE(\n",
       "  (ar_text_embedding): TokenEmbedding(\n",
       "    (dropout): Dropout(p=0.0, inplace=False)\n",
       "    (word_embeddings): Embedding(2048, 1024)\n",
       "  )\n",
       "  (nar_text_embedding): TokenEmbedding(\n",
       "    (dropout): Dropout(p=0.0, inplace=False)\n",
       "    (word_embeddings): Embedding(2048, 1024)\n",
       "  )\n",
       "  (ar_audio_embedding): TokenEmbedding(\n",
       "    (dropout): Dropout(p=0.0, inplace=False)\n",
       "    (word_embeddings): Embedding(1026, 1024)\n",
       "  )\n",
       "  (ar_text_prenet): Identity()\n",
       "  (ar_audio_prenet): Identity()\n",
       "  (ar_text_position): SinePositionalEmbedding(\n",
       "    (dropout): Dropout(p=0.1, inplace=False)\n",
       "  )\n",
       "  (ar_audio_position): SinePositionalEmbedding(\n",
       "    (dropout): Dropout(p=0.1, inplace=False)\n",
       "  )\n",
       "  (ar_decoder): TransformerEncoder(\n",
       "    (layers): ModuleList(\n",
       "      (0-11): 12 x TransformerEncoderLayer(\n",
       "        (self_attn): MultiheadAttention(\n",
       "          (out_proj): NonDynamicallyQuantizableLinear(in_features=1024, out_features=1024, bias=True)\n",
       "        )\n",
       "        (linear1): Linear(in_features=1024, out_features=4096, bias=True)\n",
       "        (dropout): Dropout(p=0.1, inplace=False)\n",
       "        (linear2): Linear(in_features=4096, out_features=1024, bias=True)\n",
       "        (dropout1): Dropout(p=0.1, inplace=False)\n",
       "        (dropout2): Dropout(p=0.1, inplace=False)\n",
       "        (norm1): LayerNorm((1024,), eps=1e-05, elementwise_affine=True)\n",
       "        (norm2): LayerNorm((1024,), eps=1e-05, elementwise_affine=True)\n",
       "      )\n",
       "    )\n",
       "    (norm): LayerNorm((1024,), eps=1e-05, elementwise_affine=True)\n",
       "  )\n",
       "  (ar_predict_layer): Linear(in_features=1024, out_features=1025, bias=False)\n",
       "  (nar_audio_embeddings): ModuleList(\n",
       "    (0): TokenEmbedding(\n",
       "      (dropout): Dropout(p=0.0, inplace=False)\n",
       "      (word_embeddings): Embedding(1025, 1024)\n",
       "    )\n",
       "    (1-7): 7 x TokenEmbedding(\n",
       "      (dropout): Dropout(p=0.0, inplace=False)\n",
       "      (word_embeddings): Embedding(1024, 1024)\n",
       "    )\n",
       "  )\n",
       "  (nar_text_prenet): Identity()\n",
       "  (nar_audio_prenet): Identity()\n",
       "  (nar_text_position): SinePositionalEmbedding(\n",
       "    (dropout): Dropout(p=0.0, inplace=False)\n",
       "  )\n",
       "  (nar_audio_position): SinePositionalEmbedding(\n",
       "    (dropout): Dropout(p=0.1, inplace=False)\n",
       "  )\n",
       "  (nar_decoder): TransformerEncoder(\n",
       "    (layers): ModuleList(\n",
       "      (0-11): 12 x TransformerEncoderLayer(\n",
       "        (self_attn): MultiheadAttention(\n",
       "          (out_proj): NonDynamicallyQuantizableLinear(in_features=1024, out_features=1024, bias=True)\n",
       "        )\n",
       "        (linear1): Linear(in_features=1024, out_features=4096, bias=True)\n",
       "        (dropout): Dropout(p=0.1, inplace=False)\n",
       "        (linear2): Linear(in_features=4096, out_features=1024, bias=True)\n",
       "        (dropout1): Dropout(p=0.1, inplace=False)\n",
       "        (dropout2): Dropout(p=0.1, inplace=False)\n",
       "        (norm1): AdaptiveLayerNorm(\n",
       "          (project_layer): Linear(in_features=1024, out_features=2048, bias=True)\n",
       "          (norm): LayerNorm((1024,), eps=1e-05, elementwise_affine=True)\n",
       "        )\n",
       "        (norm2): AdaptiveLayerNorm(\n",
       "          (project_layer): Linear(in_features=1024, out_features=2048, bias=True)\n",
       "          (norm): LayerNorm((1024,), eps=1e-05, elementwise_affine=True)\n",
       "        )\n",
       "      )\n",
       "    )\n",
       "    (norm): AdaptiveLayerNorm(\n",
       "      (project_layer): Linear(in_features=1024, out_features=2048, bias=True)\n",
       "      (norm): LayerNorm((1024,), eps=1e-05, elementwise_affine=True)\n",
       "    )\n",
       "  )\n",
       "  (nar_predict_layers): ModuleList(\n",
       "    (0-6): 7 x Linear(in_features=1024, out_features=1024, bias=False)\n",
       "  )\n",
       "  (nar_stage_embeddings): ModuleList(\n",
       "    (0-6): 7 x TokenEmbedding(\n",
       "      (dropout): Dropout(p=0.0, inplace=False)\n",
       "      (word_embeddings): Embedding(1, 1024)\n",
       "    )\n",
       "  )\n",
       "  (ar_language_embedding): TokenEmbedding(\n",
       "    (dropout): Dropout(p=0.0, inplace=False)\n",
       "    (word_embeddings): Embedding(4, 1024)\n",
       "  )\n",
       "  (nar_language_embedding): TokenEmbedding(\n",
       "    (dropout): Dropout(p=0.0, inplace=False)\n",
       "    (word_embeddings): Embedding(4, 1024)\n",
       "  )\n",
       ")"
      ]
     },
     "execution_count": 5,
     "metadata": {},
     "output_type": "execute_result"
    }
   ],
   "execution_count": 5
  },
  {
   "metadata": {},
   "cell_type": "markdown",
   "source": "验证新模型无法加载旧权重。",
   "id": "33589354116b6e33"
  },
  {
   "metadata": {
    "ExecuteTime": {
     "end_time": "2024-09-14T14:40:23.470544Z",
     "start_time": "2024-09-14T14:40:20.210364Z"
    }
   },
   "cell_type": "code",
   "source": [
    "from macros import *\n",
    "from models.vallex import VALLE\n",
    "\n",
    "checkpoint = torch.load('./checkpoints/vallex-checkpoint.pt', map_location='cpu')\n",
    "model = VALLE(\n",
    "        N_DIM,\n",
    "        NUM_HEAD,\n",
    "        NUM_LAYERS,\n",
    "        norm_first=True,\n",
    "        add_prenet=False,\n",
    "        prefix_mode=PREFIX_MODE,\n",
    "        share_embedding=True,\n",
    "        nar_scale_factor=1.0,\n",
    "        prepend_bos=True,\n",
    "        num_quantizers=NUM_QUANTIZERS,\n",
    "    )\n",
    "missing_keys, unexpected_keys = model.load_state_dict(\n",
    "    checkpoint[\"model\"], strict=True\n",
    ")\n",
    "assert not missing_keys\n",
    "model.eval()"
   ],
   "id": "c04af2f24cbb90ce",
   "outputs": [
    {
     "name": "stderr",
     "output_type": "stream",
     "text": [
      "/var/folders/fd/vflcczp10w97j9zp71gwynl40000gn/T/ipykernel_3391/971458241.py:4: FutureWarning: You are using `torch.load` with `weights_only=False` (the current default value), which uses the default pickle module implicitly. It is possible to construct malicious pickle data which will execute arbitrary code during unpickling (See https://github.com/pytorch/pytorch/blob/main/SECURITY.md#untrusted-models for more details). In a future release, the default value for `weights_only` will be flipped to `True`. This limits the functions that could be executed during unpickling. Arbitrary objects will no longer be allowed to be loaded via this mode unless they are explicitly allowlisted by the user via `torch.serialization.add_safe_globals`. We recommend you start setting `weights_only=True` for any use case where you don't have full control of the loaded file. Please open an issue on GitHub for any issues related to this experimental feature.\n",
      "  checkpoint = torch.load('./checkpoints/vallex-checkpoint.pt', map_location='cpu')\n"
     ]
    },
    {
     "ename": "RuntimeError",
     "evalue": "Error(s) in loading state_dict for VALLE:\n\tsize mismatch for ar_language_embedding.word_embeddings.weight: copying a param with shape torch.Size([3, 1024]) from checkpoint, the shape in current model is torch.Size([4, 1024]).\n\tsize mismatch for nar_language_embedding.word_embeddings.weight: copying a param with shape torch.Size([3, 1024]) from checkpoint, the shape in current model is torch.Size([4, 1024]).",
     "output_type": "error",
     "traceback": [
      "\u001B[0;31m---------------------------------------------------------------------------\u001B[0m",
      "\u001B[0;31mRuntimeError\u001B[0m                              Traceback (most recent call last)",
      "Cell \u001B[0;32mIn[6], line 17\u001B[0m\n\u001B[1;32m      4\u001B[0m checkpoint \u001B[38;5;241m=\u001B[39m torch\u001B[38;5;241m.\u001B[39mload(\u001B[38;5;124m'\u001B[39m\u001B[38;5;124m./checkpoints/vallex-checkpoint.pt\u001B[39m\u001B[38;5;124m'\u001B[39m, map_location\u001B[38;5;241m=\u001B[39m\u001B[38;5;124m'\u001B[39m\u001B[38;5;124mcpu\u001B[39m\u001B[38;5;124m'\u001B[39m)\n\u001B[1;32m      5\u001B[0m model \u001B[38;5;241m=\u001B[39m VALLE(\n\u001B[1;32m      6\u001B[0m         N_DIM,\n\u001B[1;32m      7\u001B[0m         NUM_HEAD,\n\u001B[0;32m   (...)\u001B[0m\n\u001B[1;32m     15\u001B[0m         num_quantizers\u001B[38;5;241m=\u001B[39mNUM_QUANTIZERS,\n\u001B[1;32m     16\u001B[0m     )\n\u001B[0;32m---> 17\u001B[0m missing_keys, unexpected_keys \u001B[38;5;241m=\u001B[39m \u001B[43mmodel\u001B[49m\u001B[38;5;241;43m.\u001B[39;49m\u001B[43mload_state_dict\u001B[49m\u001B[43m(\u001B[49m\n\u001B[1;32m     18\u001B[0m \u001B[43m    \u001B[49m\u001B[43mcheckpoint\u001B[49m\u001B[43m[\u001B[49m\u001B[38;5;124;43m\"\u001B[39;49m\u001B[38;5;124;43mmodel\u001B[39;49m\u001B[38;5;124;43m\"\u001B[39;49m\u001B[43m]\u001B[49m\u001B[43m,\u001B[49m\u001B[43m \u001B[49m\u001B[43mstrict\u001B[49m\u001B[38;5;241;43m=\u001B[39;49m\u001B[38;5;28;43;01mTrue\u001B[39;49;00m\n\u001B[1;32m     19\u001B[0m \u001B[43m)\u001B[49m\n\u001B[1;32m     20\u001B[0m \u001B[38;5;28;01massert\u001B[39;00m \u001B[38;5;129;01mnot\u001B[39;00m missing_keys\n\u001B[1;32m     21\u001B[0m model\u001B[38;5;241m.\u001B[39meval()\n",
      "File \u001B[0;32m~/PycharmProjects/VALL-E-X/.venv/lib/python3.9/site-packages/torch/nn/modules/module.py:2215\u001B[0m, in \u001B[0;36mModule.load_state_dict\u001B[0;34m(self, state_dict, strict, assign)\u001B[0m\n\u001B[1;32m   2210\u001B[0m         error_msgs\u001B[38;5;241m.\u001B[39minsert(\n\u001B[1;32m   2211\u001B[0m             \u001B[38;5;241m0\u001B[39m, \u001B[38;5;124m'\u001B[39m\u001B[38;5;124mMissing key(s) in state_dict: \u001B[39m\u001B[38;5;132;01m{}\u001B[39;00m\u001B[38;5;124m. \u001B[39m\u001B[38;5;124m'\u001B[39m\u001B[38;5;241m.\u001B[39mformat(\n\u001B[1;32m   2212\u001B[0m                 \u001B[38;5;124m'\u001B[39m\u001B[38;5;124m, \u001B[39m\u001B[38;5;124m'\u001B[39m\u001B[38;5;241m.\u001B[39mjoin(\u001B[38;5;124mf\u001B[39m\u001B[38;5;124m'\u001B[39m\u001B[38;5;124m\"\u001B[39m\u001B[38;5;132;01m{\u001B[39;00mk\u001B[38;5;132;01m}\u001B[39;00m\u001B[38;5;124m\"\u001B[39m\u001B[38;5;124m'\u001B[39m \u001B[38;5;28;01mfor\u001B[39;00m k \u001B[38;5;129;01min\u001B[39;00m missing_keys)))\n\u001B[1;32m   2214\u001B[0m \u001B[38;5;28;01mif\u001B[39;00m \u001B[38;5;28mlen\u001B[39m(error_msgs) \u001B[38;5;241m>\u001B[39m \u001B[38;5;241m0\u001B[39m:\n\u001B[0;32m-> 2215\u001B[0m     \u001B[38;5;28;01mraise\u001B[39;00m \u001B[38;5;167;01mRuntimeError\u001B[39;00m(\u001B[38;5;124m'\u001B[39m\u001B[38;5;124mError(s) in loading state_dict for \u001B[39m\u001B[38;5;132;01m{}\u001B[39;00m\u001B[38;5;124m:\u001B[39m\u001B[38;5;130;01m\\n\u001B[39;00m\u001B[38;5;130;01m\\t\u001B[39;00m\u001B[38;5;132;01m{}\u001B[39;00m\u001B[38;5;124m'\u001B[39m\u001B[38;5;241m.\u001B[39mformat(\n\u001B[1;32m   2216\u001B[0m                        \u001B[38;5;28mself\u001B[39m\u001B[38;5;241m.\u001B[39m\u001B[38;5;18m__class__\u001B[39m\u001B[38;5;241m.\u001B[39m\u001B[38;5;18m__name__\u001B[39m, \u001B[38;5;124m\"\u001B[39m\u001B[38;5;130;01m\\n\u001B[39;00m\u001B[38;5;130;01m\\t\u001B[39;00m\u001B[38;5;124m\"\u001B[39m\u001B[38;5;241m.\u001B[39mjoin(error_msgs)))\n\u001B[1;32m   2217\u001B[0m \u001B[38;5;28;01mreturn\u001B[39;00m _IncompatibleKeys(missing_keys, unexpected_keys)\n",
      "\u001B[0;31mRuntimeError\u001B[0m: Error(s) in loading state_dict for VALLE:\n\tsize mismatch for ar_language_embedding.word_embeddings.weight: copying a param with shape torch.Size([3, 1024]) from checkpoint, the shape in current model is torch.Size([4, 1024]).\n\tsize mismatch for nar_language_embedding.word_embeddings.weight: copying a param with shape torch.Size([3, 1024]) from checkpoint, the shape in current model is torch.Size([4, 1024])."
     ]
    }
   ],
   "execution_count": 6
  },
  {
   "metadata": {},
   "cell_type": "code",
   "outputs": [],
   "execution_count": null,
   "source": "",
   "id": "d2c74c179b3152b6"
  }
 ],
 "metadata": {
  "kernelspec": {
   "display_name": "Python 3 (ipykernel)",
   "language": "python",
   "name": "python3"
  },
  "language_info": {
   "codemirror_mode": {
    "name": "ipython",
    "version": 3
   },
   "file_extension": ".py",
   "mimetype": "text/x-python",
   "name": "python",
   "nbconvert_exporter": "python",
   "pygments_lexer": "ipython3",
   "version": "3.9.6"
  }
 },
 "nbformat": 4,
 "nbformat_minor": 5
}
