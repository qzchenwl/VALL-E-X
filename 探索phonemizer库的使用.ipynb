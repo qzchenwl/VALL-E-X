{
 "cells": [
  {
   "cell_type": "code",
   "id": "67c9f735-a34a-4105-8d27-04fc57fdd8e0",
   "metadata": {
    "ExecuteTime": {
     "end_time": "2024-09-14T14:51:42.511383Z",
     "start_time": "2024-09-14T14:51:42.505180Z"
    }
   },
   "source": [
    "import os\n",
    "import sys\n",
    "\n",
    "# Mac环境配置，安装espeak之后需要配置\n",
    "if sys.platform.startswith(\"darwin\"):\n",
    "    os.environ[\"PHONEMIZER_ESPEAK_LIBRARY\"] = \"/opt/homebrew/Cellar/espeak/1.48.04_1/lib/libespeak.dylib\""
   ],
   "outputs": [],
   "execution_count": 1
  },
  {
   "cell_type": "code",
   "id": "afe4d097-84d7-40ba-89ca-bd691be4b0bd",
   "metadata": {
    "ExecuteTime": {
     "end_time": "2024-09-14T14:51:42.924483Z",
     "start_time": "2024-09-14T14:51:42.515088Z"
    }
   },
   "source": [
    "import phonemizer"
   ],
   "outputs": [],
   "execution_count": 2
  },
  {
   "metadata": {},
   "cell_type": "markdown",
   "source": "马来文转国际音标",
   "id": "604a4ccb1d2734cb"
  },
  {
   "cell_type": "code",
   "id": "58b2f890-d64a-4b03-b010-991b7f0969d0",
   "metadata": {
    "ExecuteTime": {
     "end_time": "2024-09-14T14:51:43.588018Z",
     "start_time": "2024-09-14T14:51:42.927052Z"
    }
   },
   "source": "phonemizer.phonemize(\"Jangan lepaskan peluang ini! Tawaran istimewa hanya untuk hari ini sahaja!\", \"ms\")",
   "outputs": [
    {
     "data": {
      "text/plain": [
       "'dʒaŋan ləpaskan pəluaŋ ini tawaran istimɛwə haɲə untoʔ hari ini sahadʒə '"
      ]
     },
     "execution_count": 3,
     "metadata": {},
     "output_type": "execute_result"
    }
   ],
   "execution_count": 3
  },
  {
   "metadata": {},
   "cell_type": "markdown",
   "source": "英文转国际音标",
   "id": "b9cb0f1cca7d980d"
  },
  {
   "cell_type": "code",
   "id": "81529f8d-9d23-48b4-8396-d8a01f5cd28a",
   "metadata": {
    "ExecuteTime": {
     "end_time": "2024-09-14T14:51:44.178779Z",
     "start_time": "2024-09-14T14:51:43.588814Z"
    }
   },
   "source": "phonemizer.phonemize(\"Hello World!\", \"en\")",
   "outputs": [
    {
     "data": {
      "text/plain": [
       "'hələʊ wɜːld '"
      ]
     },
     "execution_count": 4,
     "metadata": {},
     "output_type": "execute_result"
    }
   ],
   "execution_count": 4
  },
  {
   "metadata": {},
   "cell_type": "markdown",
   "source": "phonemizer与VALL-E-X自定义的g2p实现差异对比",
   "id": "468cba776b5fd0c3"
  },
  {
   "cell_type": "code",
   "id": "5ea6d2da-4684-461f-b149-24a56189831f",
   "metadata": {
    "ExecuteTime": {
     "end_time": "2024-09-14T14:51:46.539373Z",
     "start_time": "2024-09-14T14:51:44.181710Z"
    }
   },
   "source": [
    "from utils.g2p.english import english_to_ipa, english_to_ipa2\n",
    "from utils.g2p.malay import malay_to_ipa"
   ],
   "outputs": [],
   "execution_count": 5
  },
  {
   "cell_type": "code",
   "id": "9b1f22b1-e111-4ccf-a789-2c44684c1b12",
   "metadata": {
    "ExecuteTime": {
     "end_time": "2024-09-14T14:51:47.184891Z",
     "start_time": "2024-09-14T14:51:46.540212Z"
    }
   },
   "source": [
    "text = \"Hello World!\"\n",
    "\n",
    "print(\"english_to_ipa      :\", english_to_ipa(text))\n",
    "print(\"english_to_ipa2     :\", english_to_ipa2(text))\n",
    "print(\"phonemizer.phonemize:\", phonemizer.phonemize(text, \"en\"))"
   ],
   "outputs": [
    {
     "name": "stdout",
     "output_type": "stream",
     "text": [
      "english_to_ipa      : hɛˈloʊ wərld!\n",
      "english_to_ipa2     : hɛˈloʊ wəɹɫd!\n",
      "phonemizer.phonemize: hələʊ wɜːld \n"
     ]
    }
   ],
   "execution_count": 6
  },
  {
   "cell_type": "code",
   "id": "a76662fd-2a67-4cab-af26-ed69c91184dd",
   "metadata": {
    "ExecuteTime": {
     "end_time": "2024-09-14T14:51:48.366963Z",
     "start_time": "2024-09-14T14:51:47.186547Z"
    }
   },
   "source": [
    "text = \"Jangan lepaskan peluang ini! Tawaran istimewa hanya untuk hari ini sahaja!\"\n",
    "\n",
    "print(\"malay_to_ipa        :\", malay_to_ipa(text))\n",
    "print(\"phonemizer.phonemize:\", phonemizer.phonemize(text, \"ms\"))"
   ],
   "outputs": [
    {
     "name": "stdout",
     "output_type": "stream",
     "text": [
      "malay_to_ipa        : dʒaŋan ləpaskan pəluaŋ ini tawaɹan istimɛwə haŋə untoɦ haɹi ini sahadʒə \n",
      "phonemizer.phonemize: dʒaŋan ləpaskan pəluaŋ ini tawaran istimɛwə haɲə untoʔ hari ini sahadʒə \n"
     ]
    }
   ],
   "execution_count": 7
  },
  {
   "cell_type": "code",
   "id": "f035b7dd-a4ef-4e82-9d3e-36153acd7937",
   "metadata": {
    "ExecuteTime": {
     "end_time": "2024-09-14T14:51:48.371349Z",
     "start_time": "2024-09-14T14:51:48.368715Z"
    }
   },
   "source": [],
   "outputs": [],
   "execution_count": 7
  }
 ],
 "metadata": {
  "kernelspec": {
   "display_name": "Python 3 (ipykernel)",
   "language": "python",
   "name": "python3"
  },
  "language_info": {
   "codemirror_mode": {
    "name": "ipython",
    "version": 3
   },
   "file_extension": ".py",
   "mimetype": "text/x-python",
   "name": "python",
   "nbconvert_exporter": "python",
   "pygments_lexer": "ipython3",
   "version": "3.9.6"
  }
 },
 "nbformat": 4,
 "nbformat_minor": 5
}
